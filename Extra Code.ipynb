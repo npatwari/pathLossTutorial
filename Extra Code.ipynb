{
 "cells": [
  {
   "cell_type": "markdown",
   "id": "40ce4120-c6a3-4ad2-b98e-8656842c0d8e",
   "metadata": {},
   "source": [
    "## Time-domain CW Received Power Calculation"
   ]
  },
  {
   "cell_type": "code",
   "execution_count": 1,
   "id": "d90f0ce1-cc6f-4bef-a2cb-fce792835f3b",
   "metadata": {},
   "outputs": [
    {
     "ename": "NameError",
     "evalue": "name 'rx_data' is not defined",
     "output_type": "error",
     "traceback": [
      "\u001b[31m---------------------------------------------------------------------------\u001b[39m",
      "\u001b[31mNameError\u001b[39m                                 Traceback (most recent call last)",
      "\u001b[36mCell\u001b[39m\u001b[36m \u001b[39m\u001b[32mIn[1]\u001b[39m\u001b[32m, line 58\u001b[39m\n\u001b[32m     54\u001b[39m             avgRxPowers[txname][rxname] = np.mean(allRxPowers[txname][rxname])\n\u001b[32m     56\u001b[39m     \u001b[38;5;28;01mreturn\u001b[39;00m avgRxPowers, allRxPowers\n\u001b[32m---> \u001b[39m\u001b[32m58\u001b[39m avgRxPowers, allRxPowers = calcRxPowerAllLinks(rx_data, txrxloc, rxlocs, txlocs, samp_rate, rxrepeat)\n\u001b[32m     59\u001b[39m \u001b[38;5;66;03m# Print out the results in a tabular format\u001b[39;00m\n\u001b[32m     60\u001b[39m printRSSMeasurementsGrid(avgRxPowers, rxlocs)\n",
      "\u001b[31mNameError\u001b[39m: name 'rx_data' is not defined"
     ]
    }
   ],
   "source": [
    "def abs2(x):\n",
    "    return np.real(np.multiply(x,np.conj(x)))\n",
    "\n",
    "\n",
    "def printRSSMeasurements(avgRxPowers):\n",
    "    for txname, measurements in avgRxPowers.items():\n",
    "        print(\"TX =\", txname)\n",
    "        for rxname, rss in measurements.items():\n",
    "            if rss < 0:\n",
    "                print(\"    RX =\", rxname, ', RSS = %.2f' % rss)\n",
    "\n",
    "def printRSSMeasurementsGrid(avgRxPowers, names):\n",
    "    maxchars = max([len(x) for x in names])\n",
    "    # Print header row with names of transmitters\n",
    "    print(' '*maxchars, ' '.join(format(x, \">22s\") for x in names))\n",
    "    for rowname in names:\n",
    "        print( \"%22s\" % rowname, end='')\n",
    "        for colname in names:\n",
    "            print( \"%23.2f\" % avgRxPowers[rowname][colname], end='')\n",
    "        print()\n",
    "\n",
    "def calcRxPowerAllLinks(rx_data, txrxloc, rxlocs, txlocs, samp_rate=250000, repeats=4):\n",
    "\n",
    "    # Design parameters: You can change these parameters depending on the\n",
    "    # (normalized) bandwidth of the signal you have.\n",
    "    stopband_attenuation = 30.0\n",
    "    transition_bandwidth = 0.002 # 100 Hz / 500000 = 0.0002\n",
    "    cutoff_norm = 0.01  # normalized bandwidth of the passband\n",
    "    # What order filter do we need?\n",
    "    filterN, beta = signal.kaiserord(stopband_attenuation, transition_bandwidth)\n",
    "    # Create the filter coefficients\n",
    "    taps = signal.firwin(filterN, cutoff_norm, window=('kaiser', beta))\n",
    "    print('Filter tap length:', len(taps))\n",
    "\n",
    "    # Initialize a 2D dictionary array, each containing an array of the \"repeats\" number of received powers.\n",
    "    allRxPowers = {y: dict( {w: np.zeros(repeats) for w in rxlocs} ) for y in txlocs}\n",
    "    avgRxPowers = {y: dict( {w: 0 for w in rxlocs} ) for y in txlocs}\n",
    "\n",
    "    # Loop through each measurement (RX, TX, and repetition) in the rx_data structure.\n",
    "    for txname in rx_data:\n",
    "        for i in range(0, len(rx_data[txname])):\n",
    "            rxname = txrxloc[txname][i]\n",
    "            for j in range(0, len(rx_data[txname][i])):\n",
    "                #print('TX: {} RX: {} rep: {}'.format(txname, txrxloc[txname][i], j))\n",
    "\n",
    "                # Filter the out-of-band noise\n",
    "                filtered_signal = signal.lfilter(taps, 1.0, rx_data[txname][i][j])\n",
    "                # Compute the average linear power in the filtered signal\n",
    "                power_linear = np.mean(abs2(filtered_signal))\n",
    "                # Convert to dB and store it\n",
    "                allRxPowers[txname][rxname][j] = 10.0*np.log10(power_linear)\n",
    "\n",
    "            # Store the average power over all repetitions\n",
    "            avgRxPowers[txname][rxname] = np.mean(allRxPowers[txname][rxname])\n",
    "            \n",
    "    return avgRxPowers, allRxPowers\n",
    "\n",
    "avgRxPowers, allRxPowers = calcRxPowerAllLinks(rx_data, txrxloc, rxlocs, txlocs, samp_rate, rxrepeat)\n",
    "# Print out the results in a tabular format\n",
    "printRSSMeasurementsGrid(avgRxPowers, rxlocs)"
   ]
  },
  {
   "cell_type": "code",
   "execution_count": null,
   "id": "c60d8628-b08f-46d8-90a2-0066daad7229",
   "metadata": {},
   "outputs": [],
   "source": []
  }
 ],
 "metadata": {
  "kernelspec": {
   "display_name": "Python 3 (ipykernel)",
   "language": "python",
   "name": "python3"
  },
  "language_info": {
   "codemirror_mode": {
    "name": "ipython",
    "version": 3
   },
   "file_extension": ".py",
   "mimetype": "text/x-python",
   "name": "python",
   "nbconvert_exporter": "python",
   "pygments_lexer": "ipython3",
   "version": "3.13.5"
  }
 },
 "nbformat": 4,
 "nbformat_minor": 5
}
