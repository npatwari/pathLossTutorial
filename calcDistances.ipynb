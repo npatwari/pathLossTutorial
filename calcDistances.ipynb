{
 "cells": [
  {
   "cell_type": "code",
   "execution_count": 46,
   "id": "35ae6de2-d70d-4778-87e8-7d86cb6c5729",
   "metadata": {},
   "outputs": [
    {
     "name": "stdout",
     "output_type": "stream",
     "text": [
      "<csv.DictReader object at 0x1374ab250>\n",
      "[[   0.   857.4 1543.3  932.   892.6  646.4  739.4  907.8  996.2  627.\n",
      "   351.   305.1  542.9]\n",
      " [ 857.4    0.   689.9  562.2  829.4  935.6 1327.9 1114.3 1359.3 1144.5\n",
      "  1099.   934.8  937.1]\n",
      " [1543.3  689.9    0.  1023.6 1345.8 1557.5 1982.3 1677.2 1946.4 1795.6\n",
      "  1785.9 1617.8 1584.6]\n",
      " [ 932.   562.2 1023.6    0.   322.6  593.6 1040.   658.3  932.2  859.3\n",
      "   991.1  816.1  662.6]\n",
      " [ 892.6  829.4 1345.8  322.6    0.   351.   775.2  339.1  614.9  611.3\n",
      "   833.5  680.6  454.6]\n",
      " [ 646.4  935.6 1557.5  593.6  351.     0.   446.4  263.9  435.   267.9\n",
      "   499.3  372.9  116.3]\n",
      " [ 739.4 1327.9 1982.3 1040.   775.2  446.4    0.   508.9  374.6  186.9\n",
      "   405.6  457.3  397.9]\n",
      " [ 907.8 1114.3 1677.2  658.3  339.1  263.9  508.9    0.   276.   397.5\n",
      "   717.5  621.9  366.1]\n",
      " [ 996.2 1359.3 1946.4  932.2  614.9  435.   374.6  276.     0.   377.5\n",
      "   720.5  691.2  484.8]\n",
      " [ 627.  1144.5 1795.6  859.3  611.3  267.9  186.9  397.5  377.5    0.\n",
      "   346.3  323.9  211.1]\n",
      " [ 351.  1099.  1785.9  991.1  833.5  499.3  405.6  717.5  720.5  346.3\n",
      "     0.   178.2  384.4]\n",
      " [ 305.1  934.8 1617.8  816.1  680.6  372.9  457.3  621.9  691.2  323.9\n",
      "   178.2    0.   258.6]\n",
      " [ 542.9  937.1 1584.6  662.6  454.6  116.3  397.9  366.1  484.8  211.1\n",
      "   384.4  258.6    0. ]]\n"
     ]
    }
   ],
   "source": [
    "import csv\n",
    "import math\n",
    "import numpy as np\n",
    "import matplotlib.pyplot as plt\n",
    "from matplotlib import rc\n",
    "import pickle\n",
    "rc('xtick', labelsize=14)\n",
    "rc('ytick', labelsize=14)\n",
    "\n",
    "\n",
    "rxnames = [\"cbrssdr1-honors\", \"cbrssdr1-bes\", \"cbrssdr1-fm\", \"cbrssdr1-browning\", \"cbrssdr1-meb\", \"cbrssdr1-ustar\",\n",
    "           \"cbrssdr1-hospital\", \"cnode-wasatch\", \"cnode-mario\", \"cnode-moran\", \"cnode-guesthouse\", \"cnode-ebc\", \"cnode-ustar\"]\n",
    "nodes   = len(rxnames)\n",
    "\n",
    "# INPUTS: coord1, coord2\n",
    "#    These are (latitude, longitude) coordinates in degrees\n",
    "#    As given by google maps, for example\n",
    "# OUTPUT: distance in meters\n",
    "# Copied from:\n",
    "#    https://stackoverflow.com/questions/19412462/getting-distance-between-two-points-based-on-latitude-longitude\n",
    "#\n",
    "def calcDistLatLong(coord1, coord2):\n",
    "\n",
    "    R = 6373000.0 # approximate radius of earth in meters\n",
    "\n",
    "    lat1 = math.radians(coord1[0])\n",
    "    lon1 = math.radians(coord1[1])\n",
    "    lat2 = math.radians(coord2[0])\n",
    "    lon2 = math.radians(coord2[1])\n",
    "\n",
    "    dlon = lon2 - lon1\n",
    "    dlat = lat2 - lat1\n",
    "\n",
    "    a    = math.sin(dlat / 2)**2 + math.cos(lat1) * math.cos(lat2) * math.sin(dlon / 2)**2\n",
    "    dist = R * 2 * math.atan2(math.sqrt(a), math.sqrt(1 - a))\n",
    "\n",
    "    return dist\n",
    "\n",
    "\n",
    "# For each row in the CSV, check and see if it matches one of the radio names.\n",
    "coord = np.zeros((nodes,2))\n",
    "with open('powder-deployment.csv') as csvfile:\n",
    "    reader = csv.DictReader(csvfile)\n",
    "    #print(reader)\n",
    "    for row in reader:\n",
    "        # Find the row number (in rxnames) of the station (node name) in the CSV file\n",
    "        station = row['Station']\n",
    "        try: \n",
    "            # If you found it, save the (lat,long) coordinate in the 'coord' list\n",
    "            ind = rxnames.index(station)\n",
    "            coord[ind,:] = [row['Latitude (deg N)'], row['Longitude (deg E)']]\n",
    "        except: pass\n",
    "\n",
    "# Initialize a distance matrix\n",
    "distance_m = np.zeros((nodes, nodes))\n",
    "# Loop through the lower triangle of the matrix\n",
    "for i in range(nodes):\n",
    "    for j in range(i):\n",
    "        # Calculate the distance between node i and j. Put it in both i,j and j,i matrix entries.\n",
    "        distance_m[i,j] = calcDistLatLong(coord[i,:], coord[j,:])\n",
    "        distance_m[j,i] = distance_m[i,j]\n",
    "\n",
    "print(np.array_str(distance_m,  precision=1))"
   ]
  },
  {
   "cell_type": "code",
   "execution_count": 51,
   "id": "889f6fc0-1f33-424b-a4c1-ad11e51766b9",
   "metadata": {},
   "outputs": [
    {
     "name": "stdout",
     "output_type": "stream",
     "text": [
      "cbrssdr1-honors, cbrssdr1-bes, cbrssdr1-fm, cbrssdr1-browning, cbrssdr1-meb, cbrssdr1-ustar, cbrssdr1-hospital, cnode-wasatch, cnode-mario, cnode-moran, cnode-guesthouse, cnode-ebc, cnode-ustar\n"
     ]
    }
   ],
   "source": [
    "distance_data = (distance_m, rxnames)\n",
    "# Save the combined data to a file\n",
    "with open('distance_data.pkl', 'wb') as f:\n",
    "    pickle.dump(distance_data, f)\n",
    "\n",
    "header = ', '.join(rxnames)\n",
    "print(header)\n",
    "np.savetxt('rooftop_dense_distance_matrix.txt', distance_m, fmt='%.2f', delimiter=', ', newline='\\n', header=header)"
   ]
  },
  {
   "cell_type": "code",
   "execution_count": null,
   "id": "971d79f8-1af1-4a3a-bed3-f7fee2be473e",
   "metadata": {},
   "outputs": [],
   "source": []
  }
 ],
 "metadata": {
  "kernelspec": {
   "display_name": "Python 3 (ipykernel)",
   "language": "python",
   "name": "python3"
  },
  "language_info": {
   "codemirror_mode": {
    "name": "ipython",
    "version": 3
   },
   "file_extension": ".py",
   "mimetype": "text/x-python",
   "name": "python",
   "nbconvert_exporter": "python",
   "pygments_lexer": "ipython3",
   "version": "3.13.5"
  }
 },
 "nbformat": 4,
 "nbformat_minor": 5
}
