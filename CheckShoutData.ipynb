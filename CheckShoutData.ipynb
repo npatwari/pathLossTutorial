{
  "cells": [
    {
      "cell_type": "markdown",
      "id": "3105ab1e-6a51-49df-9f50-69a121877652",
      "metadata": {
        "id": "3105ab1e-6a51-49df-9f50-69a121877652"
      },
      "source": [
        "# Compute Received Powers from Shout CW Experiment\n",
        "\n",
        "Author: Neal Patwari\n",
        "\n",
        "This Python notebook goes through steps to view received sampled data and compute the power of those signals.\n",
        "The steps involved are:\n",
        "(0. If this is running in a Google Colab jupyter notebook, some instructions on uploading files.)\n",
        "1. Load the data and metadata from the JSON experimental parameters file and HDF5 data file.\n",
        "2. Plot the received signals in the time domain and the frequency domain\n",
        "3. Compute the received power in the narrowband received signal\n",
        "4. Compare path lengths to the measured received powers\n",
        "\n",
        "Look for questions below, marked with the whale emoji: 🐋\n",
        "\n",
        "**Save your work as you go. Turn in your completed .ipynb or a pdf of it to the Canvas assignment.**"
      ]
    },
    {
      "cell_type": "markdown",
      "id": "f37508f2-3aea-4966-a1f2-c9e33efe0a9a",
      "metadata": {
        "id": "f37508f2-3aea-4966-a1f2-c9e33efe0a9a"
      },
      "source": [
        "**Type your name here**"
      ]
    },
    {
      "cell_type": "markdown",
      "id": "9493e81c-73d0-4141-9ffa-8355dbf0bcbf",
      "metadata": {
        "id": "9493e81c-73d0-4141-9ffa-8355dbf0bcbf"
      },
      "source": [
        "## 0. Instructions when Running this Notebook in Google Colab\n",
        "\n",
        "✋ First, go to the file menu on the colab File menu and `Save a Copy in Drive`.  This is because the original shared doc is a read only copy.\n",
        "\n",
        "This python notebook came from [our git repo](https://github.com/npatwari/pathLossTutorial#).\n",
        "\n",
        "The following instructions assume you have the measurement zip file from a run of Shout.\n",
        "\n",
        "In colab, we have to upload any file that colab needs besides this .ipynb file.  In particular we need to load the data files.  Currently colab requires us to upload one file at a time.  Because we're impatient, we zipped all of the data folder and its included files together, and we'll upload that one zip file, and then unzip it. We need both the `data/` folder and its contents, and the distance_data.pkl file.\n",
        "\n",
        "To upload the file:\n",
        " - **Click on the folder icon** at the leftmost column of this page.  Then, you should see a `..` folder and a `sample_data` folder, and four icons above that directory listing.\n",
        " - **Click on the Upload icon**, which looks like a piece of paper with an up arrow on it.  \n",
        " - **Select and upload** the `<your-file-name>.zip` file (or whatever your measurement zip file is called). It asks you to confirm that it will delete them when your session expires (which means you need to do it again if the session expires).  Click OK.\n",
        " - **Run the exec command below** Uncomment the command so that it starts with the exclamation point (`!unzip <your-file-name>.zip`, where you type in your file's name); run it; and then wait for it to unzip, which may take a few seconds."
      ]
    },
    {
      "cell_type": "code",
      "execution_count": null,
      "id": "8ba760cf-4659-47a2-a329-1011d1d6d7b4",
      "metadata": {
        "id": "8ba760cf-4659-47a2-a329-1011d1d6d7b4"
      },
      "outputs": [],
      "source": [
        "!unzip data.zip"
      ]
    },
    {
      "cell_type": "markdown",
      "id": "66d46eb0-b4bc-4313-a7c2-93b1573cfd4f",
      "metadata": {
        "id": "66d46eb0-b4bc-4313-a7c2-93b1573cfd4f"
      },
      "source": [
        "## 1. Load the data and metadata from the JSON experimental parameters file and HDF5 data file\n",
        "\n",
        "This section first loads the packages we'll need across this notebook. Then, it defines functions to load the JSON and the HDF5 data file. Finally, the user changes the variables that describe the folder containing the JSON and HDF5 files:\n",
        "\n",
        "`folder = \"./data/Shout_meas_08-26-2025_13-23-48\"`\n",
        "\n",
        "`jsonfile = 'save_iq_w_tx_cw.json'`\n",
        "\n",
        "`folder` should point to the correct diretory containing the user's measurements, and `jsonfile` is the name of the experiment parameter file within that folder. Then run this code to load the data and metadata into the workspace. The important workspace variable names are:\n",
        "\n",
        "- `rxrepeat`: How many repetitions of signal measurements were conducted per link\n",
        "- `samp_rate`: The sampling rate in samples / sec at the receiver\n",
        "- `txlocs`: The names (strings) of the transmitters\n",
        "- `rxlocs`: The names (strings) of the receivers\n",
        "- `rx_data`: Dictionary of received IQ samples, organized by transmitter name, for when a CW was transmitted\n",
        "- `rx_noise`: Dictionary of received IQ samples, organized by receiver name, for when NO SIGNAL was transmitted. Empty if no noise measurements were conducted.\n",
        "- `txrxloc`: Dictionary of the names of each link measured, organized first by transmitter name. Receiver names for each TX are given in a list of strings.\n",
        "- `sine_wfreq`: The frequency of the CW signal, compared to the center frequency\n",
        "- `nsamps`: The number of samples collected in each measurement at the receiver"
      ]
    },
    {
      "cell_type": "code",
      "execution_count": null,
      "id": "1d696900-2bae-422f-ac99-6b56a4113c8f",
      "metadata": {
        "scrolled": true,
        "id": "1d696900-2bae-422f-ac99-6b56a4113c8f"
      },
      "outputs": [],
      "source": [
        "import json\n",
        "import math\n",
        "import numpy as np\n",
        "from scipy import signal\n",
        "import h5py\n",
        "import matplotlib.pyplot as plt\n",
        "from matplotlib import rc\n",
        "import datetime\n",
        "import scipy.signal as signal\n",
        "import pickle\n",
        "rc('xtick', labelsize=14)\n",
        "rc('ytick', labelsize=14)\n",
        "\n",
        "def get_time_string(timestamp):\n",
        "    '''\n",
        "    Helper function to get data and time from timestamp\n",
        "    INPUT: timestamp\n",
        "    OUTPUT: data and time. Example: 01-04-2023, 19:50:27\n",
        "    '''\n",
        "    date_time = datetime.datetime.fromtimestamp(int(timestamp))\n",
        "    return date_time.strftime(\"%m-%d-%Y, %H:%M:%S\")\n",
        "\n",
        "def JsonLoad(folder, json_file):\n",
        "    '''\n",
        "    Load parameters from the saved json file\n",
        "    INPUT\n",
        "    ----\n",
        "        folder: path to the measurement folder. Example: \"SHOUT/Results/Shout_meas_01-04-2023_18-50-26\"\n",
        "        json_file: the json file with all the specifications. Example: '/save_iq_w_tx_gold.json'\n",
        "    OUTPUT\n",
        "    ----\n",
        "        samps_per_chip: samples per chip\n",
        "        wotxrepeat: number of repeating IQ sample collection w/o transmission. Used as an input to\n",
        "        traverse_dataset() func\n",
        "        rxrate: sampling rate at the receiver side\n",
        "    '''\n",
        "    config_file = folder+'/'+json_file\n",
        "    config_dict = json.load(open(config_file))[0]\n",
        "    nsamps = config_dict['nsamps']\n",
        "    rxrate = config_dict['rxrate']\n",
        "    rxfreq = config_dict['rxfreq']\n",
        "    wotxrepeat = config_dict['wotxrepeat']\n",
        "    rxrepeat = config_dict['rxrepeat']\n",
        "    txnodes = config_dict['txclients']\n",
        "    rxnodes = config_dict['rxclients']\n",
        "\n",
        "    return rxrepeat, rxrate, txnodes, rxnodes\n",
        "\n",
        "def traverse_dataset(meas_folder):\n",
        "    '''\n",
        "    Load data from hdf5 format measurement file\n",
        "    INPUT\n",
        "    ----\n",
        "        meas_folder: path to the measurement folder. Example: \"SHOUT/Results/Shout_meas_01-04-2023_18-50-26\"\n",
        "    OUTPUT\n",
        "    ----\n",
        "        data: Collected IQ samples w/ transmission. It is indexed by the transmitter name\n",
        "        noise: Collected IQ samples w/o transmission. It is indexed by the transmitter name\n",
        "        txrxloc: transmitter and receiver names\n",
        "    '''\n",
        "    data = {}\n",
        "    noise = {}\n",
        "    txrxloc = {}\n",
        "    sine_wfreq = 0\n",
        "    nsamps = 0\n",
        "\n",
        "    dataset = h5py.File(meas_folder + '/measurements.hdf5', \"r\") #meas_folder\n",
        "    print(\"Dataset meta data:\", list(dataset.attrs.items()))\n",
        "    for cmd in dataset.keys():\n",
        "        print(\"Command:\", cmd)\n",
        "        if cmd == 'saveiq':\n",
        "            cmd_time = list(dataset[cmd].keys())[0]\n",
        "            print(\"  Timestamp:\", get_time_string(cmd_time))\n",
        "            print(\"  Command meta data:\", list(dataset[cmd][cmd_time].attrs.items()))\n",
        "\n",
        "            for rx_gain in dataset[cmd][cmd_time].keys():\n",
        "                print(\"   RX gain:\", rx_gain)\n",
        "                for rx in dataset[cmd][cmd_time][rx_gain].keys():\n",
        "                    print(\"     RX:\", rx)\n",
        "                    print(\"       Measurement items:\", list(dataset[cmd][cmd_time][rx_gain][rx].keys()))\n",
        "        elif cmd == 'saveiq_w_tx':\n",
        "            cmd_time = list(dataset[cmd].keys())[0]\n",
        "            print(\"  Timestamp:\", get_time_string(cmd_time))\n",
        "            print(\"  Command meta data:\", list(dataset[cmd][cmd_time].attrs.items()))\n",
        "            sine_wfreq = dataset[cmd][cmd_time].attrs.get('sine_wfreq')\n",
        "            nsamps = dataset[cmd][cmd_time].attrs.get('nsamps')\n",
        "            #print( dataset[cmd][cmd_time])\n",
        "            for tx in dataset[cmd][cmd_time].keys():\n",
        "                print(\"   TX:\", tx)\n",
        "\n",
        "                if tx == 'wo_tx':\n",
        "                    for rx_gain in dataset[cmd][cmd_time][tx].keys():\n",
        "                        print(\"       RX gain:\", rx_gain)\n",
        "                        #print(dataset[cmd][cmd_time][tx][rx_gain].keys())\n",
        "                        for rx in dataset[cmd][cmd_time][tx][rx_gain].keys():\n",
        "                            print(\"         RX:\", rx)\n",
        "                            #print(\"           Measurement items:\", list(dataset[cmd][cmd_time][tx][rx_gain][rx].keys()))\n",
        "                            repeat = np.shape(dataset[cmd][cmd_time][tx][rx_gain][rx]['rxsamples'])[0]\n",
        "                            print(\"         repeat\", repeat)\n",
        "\n",
        "                            samplesNotx =  dataset[cmd][cmd_time][tx][rx_gain][rx]['rxsamples'][:repeat, :]\n",
        "                            namelist = rx.split('-')\n",
        "                            noise[namelist[1]] = samplesNotx\n",
        "                else:\n",
        "                    for tx_gain in dataset[cmd][cmd_time][tx].keys():\n",
        "                        print(\"     TX gain:\", tx_gain)\n",
        "                        for rx_gain in dataset[cmd][cmd_time][tx][tx_gain].keys():\n",
        "                            print(\"       RX gain:\", rx_gain)\n",
        "                            txrxloc[tx] = []\n",
        "                            #print(dataset[cmd][cmd_time][tx][tx_gain][rx_gain].keys())\n",
        "                            for rx in dataset[cmd][cmd_time][tx][tx_gain][rx_gain].keys():\n",
        "                                repeat = np.shape(dataset[cmd][cmd_time][tx][tx_gain][rx_gain][rx]['rxsamples'])[0]\n",
        "                                print(\"         RX:\", rx, \"; samples shape\", np.shape(dataset[cmd][cmd_time][tx][tx_gain][rx_gain][rx]['rxsamples']))\n",
        "                                #print(\"         Measurement items:\", list(dataset[cmd][cmd_time][tx][tx_gain][rx_gain][rx].keys()))\n",
        "                                # print(\"         rxloc\", (dataset[cmd][cmd_time][tx][tx_gain][rx_gain][rx]['rxloc'][0]))\n",
        "                                # peak avg check\n",
        "                                txrxloc[tx].append(rx)\n",
        "                                rxsamples = dataset[cmd][cmd_time][tx][tx_gain][rx_gain][rx]['rxsamples'][:repeat, :]\n",
        "                                data.setdefault(tx, []).append(np.array(rxsamples))\n",
        "\n",
        "        else:\n",
        "            print('Unsupported command: ', cmd)\n",
        "\n",
        "    return data, noise, txrxloc, sine_wfreq, nsamps\n",
        "\n",
        "\n",
        "\n",
        "# Load parameters from the JSON file which describe what was measured\n",
        "# CHANGE THESE TO MATCH THE EXPERIMENT YOU RAN\n",
        "folder = \"./data/Shout_meas_08-26-2025_13-23-48\"\n",
        "jsonfile = 'save_iq_w_tx_cw.json'\n",
        "\n",
        "# Load the IQ sample data (from the hdf5 format data file) and the metadata (from both the JSON and HDF5 files)\n",
        "rxrepeat, samp_rate, txlocs, rxlocs = JsonLoad(folder, jsonfile)\n",
        "rx_data, rx_noise, txrxloc, sine_wfreq, nsamps = traverse_dataset(folder)\n",
        "\n",
        "#print()\n",
        "#print(rx_noise)\n",
        "#print(rx_data)\n",
        "#print(txlocs)\n",
        "#print(txrxloc)\n",
        "#print(rxrepeat)\n",
        "#print(samp_rate, sine_wfreq)"
      ]
    },
    {
      "cell_type": "markdown",
      "id": "dad9a402-d453-43d0-b98b-7e8537465089",
      "metadata": {
        "id": "dad9a402-d453-43d0-b98b-7e8537465089"
      },
      "source": [
        "## 2. View all measured received signals\n",
        "\n",
        "You can use the following two blocks to plot the received signals in first the time domain, and then the frequency domain.\n",
        "\n",
        "These functions plot ALL links and ALL repetitions. If you don't want all of that, you can copy and paste the code interior to the for loops and set `txname`, `i`, and `j` to whichever particular measurement you want to see.\n",
        "\n",
        "### Time Domain Signals\n",
        "\n",
        "Run this code to plot (at least some of) the time domain signals.\n"
      ]
    },
    {
      "cell_type": "code",
      "execution_count": null,
      "id": "3b51be0d-462f-4d81-8281-4e16e03df126",
      "metadata": {
        "scrolled": true,
        "id": "3b51be0d-462f-4d81-8281-4e16e03df126"
      },
      "outputs": [],
      "source": [
        "def plotSignalForAllLinks(rx_data, txrxloc, samp_rate=250000, repeats=4):\n",
        "    for txname in rx_data:\n",
        "        for i in range(0, len(rx_data[txname])):\n",
        "            for j in range(0, len(rx_data[txname][i])):\n",
        "                n = np.arange(len(rx_data[txname][i][j]))/(samp_rate/1000)\n",
        "                plt.figure()\n",
        "                plt.plot(n, np.real(rx_data[txname][i][j]))\n",
        "                plt.grid('on')\n",
        "                plt.title('TX: {} RX: {} rep: {}'.format(txname, txrxloc[txname][i], j))\n",
        "                plt.xlabel('Time (ms)')\n",
        "                plt.tight_layout()\n",
        "                plt.show()\n",
        "\n",
        "# plot all links' time-domain signals (just the real part)\n",
        "# User should check to see these are not empty\n",
        "plotSignalForAllLinks(rx_data, txrxloc, samp_rate, rxrepeat)"
      ]
    },
    {
      "cell_type": "markdown",
      "id": "6d051361-3f48-4095-a79f-2f07a441105e",
      "metadata": {
        "id": "6d051361-3f48-4095-a79f-2f07a441105e"
      },
      "source": [
        "\n",
        "\n",
        "🐋 What do you observe in the time-domain signal?\n",
        "1. Does the period you see in the plot match with the CW signal frequency that you expected to see? Describe why it matches (or doesn't match)\n",
        "2. What are other differences you observe in the other time domain signals?"
      ]
    },
    {
      "cell_type": "markdown",
      "id": "7f6fc59f-95cd-4c13-bb2a-08a13f1566ca",
      "metadata": {
        "id": "7f6fc59f-95cd-4c13-bb2a-08a13f1566ca"
      },
      "source": [
        "**Type your answer here.**"
      ]
    },
    {
      "cell_type": "markdown",
      "id": "0243759c-9277-4508-bbd5-5a03e2031084",
      "metadata": {
        "id": "0243759c-9277-4508-bbd5-5a03e2031084"
      },
      "source": [
        "### Frequency Domain signals\n",
        "\n",
        "The power spectral density (PSD) plot shows the squared magnitude of the fast Fourier transform (FFT) of the time domain signal. The\n",
        "\n",
        "Feel free to zoom in on the plots by adding a `plt.xlim(x_low, x_high)` command after the `plt.ylim()` command.\n"
      ]
    },
    {
      "cell_type": "code",
      "execution_count": null,
      "id": "b119d8ae-3cb2-47ca-8681-08c4aa522d0a",
      "metadata": {
        "scrolled": true,
        "id": "b119d8ae-3cb2-47ca-8681-08c4aa522d0a"
      },
      "outputs": [],
      "source": [
        "def plotOnePSDForEachLink(rx_data, txrxloc, samp_rate=250000, repeats=4):\n",
        "    for txname in rx_data:\n",
        "        print(txname)\n",
        "        for i in range(0, len(rx_data[txname]), repeats):\n",
        "            plt.figure()\n",
        "            # This code arbitrarily picks the 0 rep to plot.\n",
        "            signalToPlot = rx_data[txname][i][3]\n",
        "            plt.psd(signalToPlot, Fs = samp_rate/1000, NFFT=len(signalToPlot))\n",
        "            plt.ylim(-110, -60)\n",
        "            plt.yticks(ticks=[-110, -100, -90, -80, -70, -60])\n",
        "            plt.grid('on')\n",
        "            plt.title('TX: {} RX: {}'.format(txname, txrxloc[txname][i]))\n",
        "            plt.xlabel('Frequency (kHz)')\n",
        "            plt.tight_layout()\n",
        "            plt.show()\n",
        "\n",
        "\n",
        "def plotPSDForAllLinks(rx_data, txrxloc, samp_rate=250000, repeats=4):\n",
        "    for txname in rx_data:\n",
        "        for i in range(0, len(rx_data[txname])):\n",
        "            for j in range(0, len(rx_data[txname][i])):\n",
        "                plt.figure()\n",
        "                signalToPlot = rx_data[txname][i][j]\n",
        "                plt.psd(signalToPlot, Fs = samp_rate/1000, NFFT=len(signalToPlot))\n",
        "                plt.ylim(-110, -60)\n",
        "                plt.yticks(ticks=[-110, -100, -90, -80, -70, -60])\n",
        "                plt.grid('on')\n",
        "                plt.title('TX: {} RX: {} rep: {}'.format(txname, txrxloc[txname][i], j), )\n",
        "                plt.xlabel('Frequency (kHz)', fontsize=14)\n",
        "                plt.ylabel('Power Spectral Density (dBX/kHz)', fontsize=14)\n",
        "                plt.tight_layout()\n",
        "                plt.show()\n",
        "\n",
        "# plot all links Power spectral density\n",
        "# User should see that the PSD of the signal (which is close to 0) is mostly stronger than the noise\n",
        "plotPSDForAllLinks(rx_data, txrxloc, samp_rate, rxrepeat)"
      ]
    },
    {
      "cell_type": "markdown",
      "id": "1fc7c49e-4c55-4681-a738-701090e2e377",
      "metadata": {
        "id": "1fc7c49e-4c55-4681-a738-701090e2e377"
      },
      "source": [
        "\n",
        "🐋 What do you observe in the time-domain signal?\n",
        "1. What frequency range is the CW received signal located the power-spectral density plot?\n",
        "2. How would you describe the frequency content of the received signal?"
      ]
    },
    {
      "cell_type": "markdown",
      "id": "b7d926a5-c548-4226-b617-915fa37e9b5b",
      "metadata": {
        "id": "b7d926a5-c548-4226-b617-915fa37e9b5b"
      },
      "source": [
        "**Type your answer here**"
      ]
    },
    {
      "cell_type": "markdown",
      "id": "1f1b7b9e-72f1-4d4f-80be-2230567204b4",
      "metadata": {
        "id": "1f1b7b9e-72f1-4d4f-80be-2230567204b4"
      },
      "source": [
        "## 3. Compute the received power in the narrowband received signal\n",
        "\n",
        "The narrowband signal should be a very narrow band around the sinusoid frequency that we specified in the Shout experiment. In mine, it was 1.0 kHz. Compared to the sampling rate, 500 kHz, this is very small. Computing the power in the entire sampled signal would include the power of the noise across a relatively very large bandwidth, and would artificially increase the received power estimate.\n",
        "\n",
        "Instead, we use the FFT and PSD as a way to filter the received power. We integrate the power across a narrow band (plus or minus `approx_halfbandwidth`) around the frequency of the CW signal `sine_wfreq`. There is a tradeoff for the approx_halfbandwidth value -- too high and we'll let more noise in, and too low will eliminate some of the power from our signal. Generally, unless the SNR is very low, the noise power is small compared to the signal power, and having a wider approx_halfbandwidth doesn't affect the signal power much.\n",
        "\n",
        "Note that `Psd` is linear power per kHz. It is per kHz, rather than per Hz, because I divided the sample rate by 1000. I believe it is more intuitive to show the plot in kHz, rather than Hz. Also, the units of linear power here are pretty close to mW, but we don't have calibration data for the receiver to really know the characteristics of the particular SDR, so I call this reference X mW. Thus when we convert it to decibels, I refer it to \"dBX\", that is, referred to X mW, and X is unknown.\n",
        "\n",
        "The plot overwrites itself, so only the last PSD is shown. The blue line is the full PSD. The green line shows the portion of the PSD which we integrate to calculate the received power."
      ]
    },
    {
      "cell_type": "code",
      "execution_count": null,
      "id": "2c5a6040-69ba-4ebb-9d1c-b7a3a6395902",
      "metadata": {
        "id": "2c5a6040-69ba-4ebb-9d1c-b7a3a6395902"
      },
      "outputs": [],
      "source": [
        "def printRSSMeasurementsGrid(avgRxPowers, names):\n",
        "    maxchars = max([len(x) for x in names])\n",
        "    # Print header row with names of transmitters\n",
        "    print(' '*maxchars, ' '.join(format(x, \">22s\") for x in names))\n",
        "    for rowname in names:\n",
        "        print( \"%22s\" % rowname, end='')\n",
        "        for colname in names:\n",
        "            print( \"%23.2f\" % avgRxPowers[rowname][colname], end='')\n",
        "        print()\n",
        "\n",
        "def calcRxPowerFreqDomain(complexsignal, samp_rate_kHz, sine_wfreq=1.0, approx_halfbandwidth=6.0):\n",
        "\n",
        "    #fig, ax = plt.subplots()\n",
        "\n",
        "    # Calculate the PSD\n",
        "    plt.close()\n",
        "    plt.figure(1)\n",
        "    Psd, freqs = plt.psd(complexsignal, Fs = samp_rate_kHz, NFFT=len(complexsignal))\n",
        "    df = freqs[1] - freqs[0]\n",
        "    plt.xlim(-samp_rate_kHz/2, samp_rate_kHz/2)\n",
        "    plt.xlabel(\"Frequency (kHz)\", fontsize=14)\n",
        "    plt.ylabel(r\"Power Spectral Density (dBX/kHz)\", fontsize=14)\n",
        "    #ax.set_box_aspect(1)\n",
        "\n",
        "    centerfreq_kHz = sine_wfreq / 1000\n",
        "    ind = np.where(np.abs(freqs-centerfreq_kHz)<=approx_halfbandwidth)\n",
        "    plt.plot(freqs[ind], 10*np.log10(Psd[ind]), 'g-')\n",
        "\n",
        "    return 10*np.log10(sum(Psd[ind]) * df)\n",
        "\n",
        "# Initialize a 2D dictionary array, each containing an array of the \"rxrepeat\" number of received powers.\n",
        "allRxPowers = {y: dict( {w: np.zeros(rxrepeat) for w in rxlocs} ) for y in txlocs}\n",
        "avgRxPowers = {y: dict( {w: 0 for w in rxlocs} ) for y in txlocs}\n",
        "\n",
        "# Loop through each measurement (RX, TX, and repetition) in the rx_data structure.\n",
        "samp_rate_kHz = samp_rate / 1000\n",
        "for txname in rx_data:\n",
        "    for i in range(0, len(rx_data[txname])):\n",
        "        rxname = txrxloc[txname][i]\n",
        "        for j in range(0, len(rx_data[txname][i])):\n",
        "            allRxPowers[txname][rxname][j] = calcRxPowerFreqDomain(rx_data[txname][i][j], samp_rate_kHz, sine_wfreq, 3.0)\n",
        "\n",
        "        # Store the average power over all repetitions\n",
        "        avgRxPowers[txname][rxname] = np.mean(allRxPowers[txname][txrxloc[txname][i]])\n",
        "\n",
        "printRSSMeasurementsGrid(avgRxPowers, rxlocs)"
      ]
    },
    {
      "cell_type": "markdown",
      "id": "b138d3cb-ae0d-44f3-9b05-29c9ef20d4f6",
      "metadata": {
        "id": "b138d3cb-ae0d-44f3-9b05-29c9ef20d4f6"
      },
      "source": [
        "🐋 Questions:\n",
        "1. How much does the received power estimate change if we integrate over a `approx_halfbandwidth=1` kHz? Or `approx_halfbandwidth=10` kHz?\n",
        "2. The NFFT= argument to the psd() function is the FFT length. It can be set smaller than the number of samples to reduce computation. How much does the received power estimate change if we use an NFFT of 256 instead of 8192?"
      ]
    },
    {
      "cell_type": "markdown",
      "id": "efbb96aa-4e66-48f8-a835-2d57448f375d",
      "metadata": {
        "id": "efbb96aa-4e66-48f8-a835-2d57448f375d"
      },
      "source": [
        "**Type your answer here**"
      ]
    },
    {
      "cell_type": "markdown",
      "id": "cca35cdb-2124-4c0b-a402-deca77cac4f9",
      "metadata": {
        "id": "cca35cdb-2124-4c0b-a402-deca77cac4f9"
      },
      "source": [
        "## 4. Compare path lengths to the measured received powers\n",
        "\n",
        "In this part, plot the received powers vs. logarithmic distance. This will help us get to a model for received power as a function of the log of distance.\n",
        "\n",
        "I have previously computed the distances between nodes (including all rooftop and dense deployment SDRs). This is in a python pickle file that contains `distance_data`, a structure that contains:\n",
        "- `allnames`: A list of the name strings of all of the nodes. Here, the string does not include \"-comp\" because the distances are really between the SDRs, not the computers connected to them (which may be far, far away).\n",
        "- `distance_m`: 2D array of distances between each pair of nodes in the list. Distances are in meters.\n",
        "\n",
        "In this part, extract the distances of importance into `my_distances`."
      ]
    },
    {
      "cell_type": "code",
      "execution_count": null,
      "id": "381f7aed-3054-4fd6-9f48-12da26ec5985",
      "metadata": {
        "id": "381f7aed-3054-4fd6-9f48-12da26ec5985"
      },
      "outputs": [],
      "source": [
        "def printDistanceGrid(my_distances, names):\n",
        "    maxchars = max([len(x) for x in names])\n",
        "    # Print header row with names of transmitters\n",
        "    print(' '*maxchars, ' '.join(format(x, \">22s\") for x in names))\n",
        "    for i, rowname in enumerate(names):\n",
        "        print( \"%22s\" % rowname, end='')\n",
        "        for j, colname in enumerate(names):\n",
        "            print( \"%23.2f\" % my_distances[i,j], end='')\n",
        "        print()\n",
        "\n",
        "\n",
        "# Load the distances between nodes data pickle\n",
        "with open('distance_data.pkl', 'rb') as f:\n",
        "    distance_data = pickle.load(f)\n",
        "\n",
        "# Unpack the loaded data\n",
        "distance_m, allnames = distance_data\n",
        "print(allnames)\n",
        "\n",
        "# Radio names in the csv don't have the \"-comp\" ending\n",
        "my_radio_names = [x.replace('-comp', '') for x in rxlocs]\n",
        "# Find the indices of these \"my_radio_names\" within the \"allnames\" list\n",
        "ind = [allnames.index(txname) for txname in my_radio_names]\n",
        "# Get the submatrix of distance_m for my_radio_names (with rows & cols equal to ind)\n",
        "my_distances = distance_m[ind,:][:, ind]\n",
        "\n",
        "printDistanceGrid(my_distances, rxlocs)"
      ]
    },
    {
      "cell_type": "markdown",
      "id": "711c1180-b3f1-4a4a-97ce-cdfdc9cc2edc",
      "metadata": {
        "id": "711c1180-b3f1-4a4a-97ce-cdfdc9cc2edc"
      },
      "source": [
        "Next, make the plot of received power vs. dB distance, that is, 10*log10(distance). Put the relevant distances into a 1D array. Then put the received powers into the same length 1D array, so that the ith received power corresponds to the ith distance. Then plot the figure."
      ]
    },
    {
      "cell_type": "code",
      "execution_count": null,
      "id": "0b4f7d7a-ab03-4d09-ad28-e6babd88282e",
      "metadata": {
        "id": "0b4f7d7a-ab03-4d09-ad28-e6babd88282e"
      },
      "outputs": [],
      "source": [
        "# Create a 1-D array of path lengths (distances) in meters\n",
        "# Create a 1-D array of received powers in dBX for the same links\n",
        "dist_vec = np.array([])\n",
        "power_vec = np.array([])\n",
        "\n",
        "# Loop through each measurement in avgRxPowers (which is a Python dictionary of dictionaries)\n",
        "for txname, rxPowerDict in avgRxPowers.items():\n",
        "    tx_ind = allnames.index(txname.replace('-comp', ''))\n",
        "    for rxname, rxPower in rxPowerDict.items():\n",
        "        rx_ind = allnames.index(rxname.replace('-comp', ''))\n",
        "        if rxPower < 0:\n",
        "            power_vec = np.append(power_vec, rxPower)\n",
        "            dist_vec = np.append(dist_vec, distance_m[tx_ind, rx_ind])\n",
        "\n",
        "# Plot the received power vs. 10*log10(distance) as a scatter plot.\n",
        "plt.figure()\n",
        "plt.plot(10*np.log10(dist_vec), power_vec, 'ro')\n",
        "plt.xlabel(r'10$\\log_{10}$(Distance in meters)', fontsize=14)\n",
        "plt.ylabel('Received Power (dBX)', fontsize=14)\n",
        "plt.grid()"
      ]
    },
    {
      "cell_type": "markdown",
      "id": "e1c38ab7-1b34-44ea-93a7-6353a8585129",
      "metadata": {
        "id": "e1c38ab7-1b34-44ea-93a7-6353a8585129"
      },
      "source": [
        "🐋 Question: What can you observe in your (limited) data about the received power?"
      ]
    },
    {
      "cell_type": "markdown",
      "id": "0714a5c7-fafe-4970-9a1d-961c8e485e7b",
      "metadata": {
        "id": "0714a5c7-fafe-4970-9a1d-961c8e485e7b"
      },
      "source": [
        "**Type your answer here**"
      ]
    },
    {
      "cell_type": "code",
      "execution_count": null,
      "id": "84987fbc-8e23-4ff5-97eb-c4cbced93c1f",
      "metadata": {
        "id": "84987fbc-8e23-4ff5-97eb-c4cbced93c1f"
      },
      "outputs": [],
      "source": []
    }
  ],
  "metadata": {
    "kernelspec": {
      "display_name": "Python 3 (ipykernel)",
      "language": "python",
      "name": "python3"
    },
    "language_info": {
      "codemirror_mode": {
        "name": "ipython",
        "version": 3
      },
      "file_extension": ".py",
      "mimetype": "text/x-python",
      "name": "python",
      "nbconvert_exporter": "python",
      "pygments_lexer": "ipython3",
      "version": "3.13.5"
    },
    "colab": {
      "provenance": []
    }
  },
  "nbformat": 4,
  "nbformat_minor": 5
}